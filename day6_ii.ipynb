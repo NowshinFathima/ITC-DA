{
 "cells": [
  {
   "cell_type": "code",
   "execution_count": 11,
   "metadata": {},
   "outputs": [
    {
     "name": "stdout",
     "output_type": "stream",
     "text": [
      "6   8\n",
      "10   12\n"
     ]
    }
   ],
   "source": [
    "class Matrix:\n",
    "    def __init__(self,a,b,c,d):\n",
    "        self.a = a\n",
    "        self.b = b\n",
    "        self.c = c\n",
    "        self.d = d\n",
    "    def add(self, other):\n",
    "        self.a += other.a\n",
    "        self.b += other.b\n",
    "        self.c += other.c\n",
    "        self.d += other.d\n",
    "\n",
    "        def result():\n",
    "            print(self.a,\" \",self.b)\n",
    "            print(self.c,\" \",self.d)\n",
    "        result()\n",
    "        \n",
    "x = Matrix(1,2,3,4)\n",
    "y = Matrix(5,6,7,8)\n",
    "y.add(x)"
   ]
  },
  {
   "cell_type": "code",
   "execution_count": 18,
   "metadata": {},
   "outputs": [
    {
     "name": "stdout",
     "output_type": "stream",
     "text": [
      "Matrix1:\n",
      "2 3 \n",
      "4 5 \n",
      "Matrix2:\n",
      "2 5 \n",
      "8 9 \n",
      "Matrix3:\n",
      "4 8 \n",
      "12 14 \n"
     ]
    }
   ],
   "source": [
    "class Matrix:\n",
    "    def __init__(self, R, C, values=None):\n",
    "        self.m1 = []\n",
    "        self.r = R\n",
    "        self.c = C\n",
    "        if values is None:\n",
    "            values = []\n",
    "            for i in range(R):\n",
    "                a = []\n",
    "                for j in range(C):\n",
    "                    a.append(int(input(f\"({i+1}, {j+1}):\")))\n",
    "                self.m1.append(a)\n",
    "        else:\n",
    "            for i in range(R):\n",
    "                a = []\n",
    "                for j in range(C):\n",
    "                    if values:\n",
    "                        a.append(values.pop(0))\n",
    "                    else:\n",
    "                        a.append(0)\n",
    "                self.m1.append(a)\n",
    "\n",
    "    def print1(self):\n",
    "        for k in range(self.r):\n",
    "            for l in range(self.c):\n",
    "                print(self.m1[k][l], end=\" \")\n",
    "            print()\n",
    "\n",
    "    def __add__(self, other):\n",
    "        result = Matrix(self.r, self.c)\n",
    "        result.m1 = []\n",
    "        for i in range(self.r):\n",
    "            c = []\n",
    "            for j in range(self.c):\n",
    "                c.append(self.m1[i][j] + other.m1[i][j])\n",
    "            result.m1.append(c)\n",
    "        return result\n",
    "\n",
    "print(\"Matrix1:\")\n",
    "obj1 = Matrix(2, 2)\n",
    "obj1.print1()\n",
    "print(\"Matrix2:\")\n",
    "obj2 = Matrix(2, 2)\n",
    "obj2.print1()\n",
    "print(\"Matrix3:\")\n",
    "obj3 = obj1 + obj2\n",
    "obj3.print1()\n"
   ]
  },
  {
   "cell_type": "code",
   "execution_count": null,
   "metadata": {},
   "outputs": [],
   "source": []
  }
 ],
 "metadata": {
  "kernelspec": {
   "display_name": "venv",
   "language": "python",
   "name": "python3"
  },
  "language_info": {
   "codemirror_mode": {
    "name": "ipython",
    "version": 3
   },
   "file_extension": ".py",
   "mimetype": "text/x-python",
   "name": "python",
   "nbconvert_exporter": "python",
   "pygments_lexer": "ipython3",
   "version": "3.9.6"
  }
 },
 "nbformat": 4,
 "nbformat_minor": 2
}
