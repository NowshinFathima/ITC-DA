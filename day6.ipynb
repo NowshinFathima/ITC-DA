{
 "cells": [
  {
   "cell_type": "code",
   "execution_count": 24,
   "metadata": {},
   "outputs": [],
   "source": [
    "#class two properties 1. inheritance  2. polymorphism (operator overriding)\n",
    "\n",
    "# inheritance\n",
    "class Parent():         #parent class\n",
    "    def fun(self):\n",
    "        print(\"parent class\")\n",
    "\n",
    "class Child(Parent):    #child class\n",
    "    def fun1(self):\n",
    "        print(\"child class\")\n"
   ]
  },
  {
   "cell_type": "code",
   "execution_count": 2,
   "metadata": {},
   "outputs": [],
   "source": [
    "c1 = Child()        #object created for both the class"
   ]
  },
  {
   "cell_type": "code",
   "execution_count": 3,
   "metadata": {},
   "outputs": [
    {
     "name": "stdout",
     "output_type": "stream",
     "text": [
      "parent class\n"
     ]
    }
   ],
   "source": [
    "c1.fun()"
   ]
  },
  {
   "cell_type": "code",
   "execution_count": 4,
   "metadata": {},
   "outputs": [
    {
     "name": "stdout",
     "output_type": "stream",
     "text": [
      "child class\n"
     ]
    }
   ],
   "source": [
    "c1.fun1()"
   ]
  },
  {
   "cell_type": "code",
   "execution_count": 34,
   "metadata": {},
   "outputs": [],
   "source": [
    "# multiple inheritances\n",
    "class Mother():\n",
    "    mothername = \"\"\n",
    "    def mother(self):\n",
    "        print(self.mothername)\n",
    "class Father():\n",
    "    fathername = \"\"\n",
    "    def father(self):\n",
    "        print(self.fathername)"
   ]
  },
  {
   "cell_type": "code",
   "execution_count": 38,
   "metadata": {},
   "outputs": [
    {
     "name": "stdout",
     "output_type": "stream",
     "text": [
      "Father : RAM\n",
      "Mother : SITA\n",
      "--------------\n",
      "RAM\n",
      "--------------\n",
      "SITA\n"
     ]
    }
   ],
   "source": [
    "class Son(Mother, Father):\n",
    "    def parents(self):\n",
    "        print(\"Father :\", self.fathername)\n",
    "        print(\"Mother :\", self.mothername)\n",
    "s1 = Son()\n",
    "s1.fathername = \"RAM\"\n",
    "s1.mothername = \"SITA\"\n",
    "s1.parents()\n",
    "print(\"--------------\")\n",
    "s1.father()\n",
    "print(\"--------------\")\n",
    "s1.mother()"
   ]
  },
  {
   "cell_type": "code",
   "execution_count": 41,
   "metadata": {},
   "outputs": [],
   "source": [
    "#multi level inheritance\n",
    "class Family:\n",
    "    def show_family(self):\n",
    "        print(\"This is our family\")\n"
   ]
  },
  {
   "cell_type": "code",
   "execution_count": 42,
   "metadata": {},
   "outputs": [
    {
     "name": "stdout",
     "output_type": "stream",
     "text": [
      "This is our family\n",
      "=================\n",
      "Father : Mark\n",
      "Mother : Sonia\n",
      "=============\n",
      "Sonia\n",
      "=============\n",
      "Mark\n"
     ]
    }
   ],
   "source": [
    "\n",
    "class Father(Family):\n",
    "    fathername = \"\"\n",
    "    def show_father(self):\n",
    "        print(self.fathername)\n",
    "        \n",
    "class Mother(Family):\n",
    "    mothername = \"\"\n",
    "    def show_mother(self):\n",
    "        print(self.mothername)\n",
    "class Son(Father, Mother):\n",
    "    def show_parent(self):\n",
    "        print(\"Father :\", self.fathername)\n",
    "        print(\"Mother :\", self.mothername)\n",
    "        \n",
    "s1 = Son() \n",
    "s1.fathername = \"Mark\"\n",
    "s1.mothername = \"Sonia\"\n",
    "s1.show_family()\n",
    "print(\"=================\")\n",
    "s1.show_parent()\n",
    "print(\"=============\")\n",
    "s1.show_mother()\n",
    "print(\"=============\")\n",
    "s1.show_father()"
   ]
  },
  {
   "cell_type": "code",
   "execution_count": 14,
   "metadata": {},
   "outputs": [],
   "source": [
    "#Hieraricial inheritance\n",
    "class Parent:\n",
    "      def func1(self):\n",
    "          print(\"This function is in parent class.\")\n",
    "class Child1(Parent):\n",
    "      def func2(self):\n",
    "          print(\"This function is in child 1.\")\n",
    "class Child2(Parent):\n",
    "      def func3(self):\n",
    "          print(\"This function is in child 2.\")"
   ]
  },
  {
   "cell_type": "code",
   "execution_count": 15,
   "metadata": {},
   "outputs": [],
   "source": [
    "object1 = Child1()\n",
    "object2 = Child2()\n"
   ]
  },
  {
   "cell_type": "code",
   "execution_count": 16,
   "metadata": {},
   "outputs": [
    {
     "name": "stdout",
     "output_type": "stream",
     "text": [
      "This function is in parent class.\n",
      "This function is in child 1.\n",
      "This function is in parent class.\n",
      "This function is in child 2.\n"
     ]
    }
   ],
   "source": [
    "object1.func1()\n",
    "object1.func2()\n",
    "object2.func1()\n",
    "object2.func3()"
   ]
  },
  {
   "cell_type": "code",
   "execution_count": 17,
   "metadata": {},
   "outputs": [],
   "source": [
    "#hybrid inheritances\n",
    "class School:\n",
    "     def func1(self):\n",
    "         print(\"This function is in school.\")\n",
    "class Student1(School):\n",
    "     def func2(self):\n",
    "         print(\"This function is in student 1. \")\n",
    "class Student2(School):\n",
    "     def func3(self):\n",
    "         print(\"This function is in student 2.\")\n",
    "class Student3(Student1, Student2):\n",
    "     def func4(self):\n",
    "         print(\"This function is in student 3.\")\n"
   ]
  },
  {
   "cell_type": "code",
   "execution_count": 18,
   "metadata": {},
   "outputs": [],
   "source": [
    "\n",
    "object = Student3()\n"
   ]
  },
  {
   "cell_type": "code",
   "execution_count": 21,
   "metadata": {},
   "outputs": [
    {
     "name": "stdout",
     "output_type": "stream",
     "text": [
      "This function is in student 1. \n",
      "This function is in student 3.\n"
     ]
    }
   ],
   "source": [
    "object.func2()\n",
    "object.func4()"
   ]
  },
  {
   "cell_type": "code",
   "execution_count": 22,
   "metadata": {},
   "outputs": [],
   "source": [
    "# polymorism (operator overriding)\n",
    "\n",
    "class Animal:\n",
    "    multicellular = True\n",
    "    eukaryotic = True\n",
    "\n",
    "    def breathe(self):\n",
    "        print(\"I breathe oxygen.\")\n",
    "\t\t\n",
    "    def feed(self):\n",
    "        print(\"I eat food.\")\n",
    "\n",
    "class Herbivorous(Animal):\n",
    "    def feed(self):\n",
    "        print(\"I eat only plants. I am vegetarian.\")"
   ]
  },
  {
   "cell_type": "code",
   "execution_count": 23,
   "metadata": {},
   "outputs": [
    {
     "name": "stdout",
     "output_type": "stream",
     "text": [
      "I eat only plants. I am vegetarian.\n",
      "I breathe oxygen.\n"
     ]
    }
   ],
   "source": [
    "herbi = Herbivorous()\n",
    "herbi.feed()\n",
    "herbi.breathe()"
   ]
  },
  {
   "cell_type": "code",
   "execution_count": null,
   "metadata": {},
   "outputs": [],
   "source": []
  }
 ],
 "metadata": {
  "kernelspec": {
   "display_name": "venv",
   "language": "python",
   "name": "python3"
  },
  "language_info": {
   "codemirror_mode": {
    "name": "ipython",
    "version": 3
   },
   "file_extension": ".py",
   "mimetype": "text/x-python",
   "name": "python",
   "nbconvert_exporter": "python",
   "pygments_lexer": "ipython3",
   "version": "3.9.6"
  }
 },
 "nbformat": 4,
 "nbformat_minor": 2
}
